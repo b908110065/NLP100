{
  "nbformat": 4,
  "nbformat_minor": 0,
  "metadata": {
    "colab": {
      "provenance": []
    },
    "kernelspec": {
      "name": "python3",
      "display_name": "Python 3"
    },
    "language_info": {
      "name": "python"
    }
  },
  "cells": [
    {
      "cell_type": "markdown",
      "source": [],
      "metadata": {
        "id": "ymOVwkvYS1fF"
      }
    },
    {
      "cell_type": "markdown",
      "source": [
        "#00. 反轉字串"
      ],
      "metadata": {
        "id": "dRqMhRpyS8SA"
      }
    },
    {
      "cell_type": "markdown",
      "source": [
        "將字串「stressed」 中的字元以逆序形式（從末尾到首部）重組為新的字串。"
      ],
      "metadata": {
        "id": "hO87zGAfTB_H"
      }
    },
    {
      "cell_type": "code",
      "source": [
        "a= 'stressed'\n",
        "b= []\n",
        "for i in range(len(a)-1,-1,-1):\n",
        "  b.append(a[i])\n",
        "print(\"\".join(b)) #list to str"
      ],
      "metadata": {
        "colab": {
          "base_uri": "https://localhost:8080/"
        },
        "id": "3IBjlsBiTAXY",
        "outputId": "4b3d5fcb-ee37-4a08-bbef-b6333cfd6242"
      },
      "execution_count": null,
      "outputs": [
        {
          "output_type": "stream",
          "name": "stdout",
          "text": [
            "desserts\n"
          ]
        }
      ]
    },
    {
      "cell_type": "code",
      "source": [
        "a[::-1] #iloc"
      ],
      "metadata": {
        "colab": {
          "base_uri": "https://localhost:8080/",
          "height": 36
        },
        "id": "P8HHyaGPUGOV",
        "outputId": "0dcf3275-2dc3-40dd-d7ad-8d22c5322263"
      },
      "execution_count": null,
      "outputs": [
        {
          "output_type": "execute_result",
          "data": {
            "text/plain": [
              "'desserts'"
            ],
            "application/vnd.google.colaboratory.intrinsic+json": {
              "type": "string"
            }
          },
          "metadata": {},
          "execution_count": 44
        }
      ]
    },
    {
      "cell_type": "markdown",
      "source": [
        "#01. “schooled”"
      ],
      "metadata": {
        "id": "nKwavkHFZ0Qc"
      }
    },
    {
      "cell_type": "markdown",
      "source": [
        "將字串“schooled”中的第1個、第3個、第5個、第7個字元連接在一起，組成新的字串。"
      ],
      "metadata": {
        "id": "VuEAnBtzZ6F6"
      }
    },
    {
      "cell_type": "code",
      "source": [
        "a='schooled'\n",
        "a[0]+a[2]+a[4]+a[6]\n",
        "a[::2]"
      ],
      "metadata": {
        "id": "o0HZ7-cnZ5IG",
        "colab": {
          "base_uri": "https://localhost:8080/",
          "height": 36
        },
        "outputId": "405debbf-78d8-46e9-c275-84d326bfa5d9"
      },
      "execution_count": null,
      "outputs": [
        {
          "output_type": "execute_result",
          "data": {
            "text/plain": [
              "'shoe'"
            ],
            "application/vnd.google.colaboratory.intrinsic+json": {
              "type": "string"
            }
          },
          "metadata": {},
          "execution_count": 1
        }
      ]
    },
    {
      "cell_type": "markdown",
      "source": [
        "#02. “shoe” + “cold” = “schooled”"
      ],
      "metadata": {
        "id": "Khjx_CutNkvh"
      }
    },
    {
      "cell_type": "markdown",
      "source": [
        "交錯地將“shoe”和“cold”中的字元順次拼接，以得到字串“schooled”。"
      ],
      "metadata": {
        "id": "SYiJcQsJN0rx"
      }
    },
    {
      "cell_type": "code",
      "source": [
        "a = 'shoe'\n",
        "b = 'cold'\n",
        "x = []\n",
        "for i in range(4):\n",
        "  c = a[i] + b[i]\n",
        "  x.append(c)\n",
        "''.join(x)"
      ],
      "metadata": {
        "colab": {
          "base_uri": "https://localhost:8080/",
          "height": 36
        },
        "id": "ZMuvy4GGN2fG",
        "outputId": "681cce0a-3087-4ea2-8186-f2f4c05a4b40"
      },
      "execution_count": null,
      "outputs": [
        {
          "output_type": "execute_result",
          "data": {
            "text/plain": [
              "'schooled'"
            ],
            "application/vnd.google.colaboratory.intrinsic+json": {
              "type": "string"
            }
          },
          "metadata": {},
          "execution_count": 3
        }
      ]
    },
    {
      "cell_type": "markdown",
      "source": [
        "#03. 圓周率"
      ],
      "metadata": {
        "id": "8aKc-IUGObNF"
      }
    },
    {
      "cell_type": "markdown",
      "source": [
        "給定語句“Now I need a drink， alcoholic of course， after the heavy lectures involving quantum mechanics.” 以單詞為單位分割該語句，並創建一個清單，順次記錄該語句中各個單詞的長度（即字元數）。"
      ],
      "metadata": {
        "id": "hR1BLWcCOeUW"
      }
    },
    {
      "cell_type": "code",
      "source": [
        "a = 'Now I need a drink, alcoholic of course, after the heavy lectures involving quantum mechanics.'\n",
        "a = a.replace(\",\",\"\")\n",
        "a = a.replace(\".\",\"\")\n",
        "b = a.split(\" \")\n",
        "x = []\n",
        "for i in b:\n",
        "  x.append(str(len(i)))\n",
        "\"\".join(x)"
      ],
      "metadata": {
        "colab": {
          "base_uri": "https://localhost:8080/",
          "height": 36
        },
        "id": "kmiHB1xSOLE3",
        "outputId": "8cb27736-4551-4816-b480-d3d6bd936954"
      },
      "execution_count": null,
      "outputs": [
        {
          "output_type": "execute_result",
          "data": {
            "text/plain": [
              "'314159265358979'"
            ],
            "application/vnd.google.colaboratory.intrinsic+json": {
              "type": "string"
            }
          },
          "metadata": {},
          "execution_count": 10
        }
      ]
    },
    {
      "cell_type": "markdown",
      "source": [],
      "metadata": {
        "id": "cL_DYT8GRh2-"
      }
    },
    {
      "cell_type": "markdown",
      "source": [
        "#04. 元素記號"
      ],
      "metadata": {
        "id": "QNt1-8rvRfEc"
      }
    },
    {
      "cell_type": "markdown",
      "source": [
        "給定語句 “Hi He Lied Because Boron Could Not Oxidize Fluorine. New Nations Might Also Sign Peace Security Clause. Arthur King Can.”\n",
        "\n",
        "以單詞為單位分割該語句，從第1個、第5個、第6個、第7個、第8個、第9個、第15個、第16個、第19個單詞中提取第一個字符，並從其他單詞中提取前兩個字符。 隨後創建一個關聯數位（dictonary物件或map物件），將提取出的字串映射到各個相應單詞在該語句中的位置。"
      ],
      "metadata": {
        "id": "KTkn61QTRi2j"
      }
    },
    {
      "cell_type": "code",
      "source": [
        "a = \"Hi He Lied Because Boron Could Not Oxidize Fluorine. New Nations Might Also Sign Peace Security Clause. Arthur King Can.\"\n",
        "firstletter=[1,5,6,7,8,9,15,16,19]\n",
        "my_dict = {}\n",
        "for index,word in enumerate(a.split(\" \")):\n",
        "  if index+1 in firstletter:\n",
        "    my_dict[word[0]] = index+1\n",
        "  else:\n",
        "    my_dict[word[0:2]] = index+1\n",
        "my_dict\n",
        "#"
      ],
      "metadata": {
        "colab": {
          "base_uri": "https://localhost:8080/"
        },
        "id": "JmiqI8YuRk96",
        "outputId": "211799f3-886b-45d5-de5f-fbeee14421b7"
      },
      "execution_count": null,
      "outputs": [
        {
          "output_type": "execute_result",
          "data": {
            "text/plain": [
              "{'H': 1,\n",
              " 'He': 2,\n",
              " 'Li': 3,\n",
              " 'Be': 4,\n",
              " 'B': 5,\n",
              " 'C': 6,\n",
              " 'N': 7,\n",
              " 'O': 8,\n",
              " 'F': 9,\n",
              " 'Ne': 10,\n",
              " 'Na': 11,\n",
              " 'Mi': 12,\n",
              " 'Al': 13,\n",
              " 'Si': 14,\n",
              " 'P': 15,\n",
              " 'S': 16,\n",
              " 'Cl': 17,\n",
              " 'Ar': 18,\n",
              " 'K': 19,\n",
              " 'Ca': 20}"
            ]
          },
          "metadata": {},
          "execution_count": 11
        }
      ]
    },
    {
      "cell_type": "markdown",
      "source": [
        "#05. n-gram"
      ],
      "metadata": {
        "id": "9t89Fo9QXCyD"
      }
    },
    {
      "cell_type": "markdown",
      "source": [],
      "metadata": {
        "id": "JpYYrVucYXtW"
      }
    },
    {
      "cell_type": "markdown",
      "source": [
        "實現一個函數，從給定的序列物件中（例如string或list）來生成n-gram。 使用這個函數從句子“I am an NLPer”中獲得單詞級別的bi-gram與字元級別的bi-gram。"
      ],
      "metadata": {
        "id": "nZQOouzdXHe0"
      }
    },
    {
      "cell_type": "code",
      "source": [
        "def bigram_self(text):\n",
        "  return list(zip(*[text.split()[i:] for i in range(2)])),list(zip(*[text[i:] for i in range(2)]))\n",
        "bigram_self(\"I am an NLPer\")"
      ],
      "metadata": {
        "colab": {
          "base_uri": "https://localhost:8080/"
        },
        "id": "odsUFAJ2XI6U",
        "outputId": "d1cca24b-2b0c-4453-a1de-891a53c2b81b"
      },
      "execution_count": null,
      "outputs": [
        {
          "output_type": "execute_result",
          "data": {
            "text/plain": [
              "([('I', 'am'), ('am', 'an'), ('an', 'NLPer')],\n",
              " [('I', ' '),\n",
              "  (' ', 'a'),\n",
              "  ('a', 'm'),\n",
              "  ('m', ' '),\n",
              "  (' ', 'a'),\n",
              "  ('a', 'n'),\n",
              "  ('n', ' '),\n",
              "  (' ', 'N'),\n",
              "  ('N', 'L'),\n",
              "  ('L', 'P'),\n",
              "  ('P', 'e'),\n",
              "  ('e', 'r')])"
            ]
          },
          "metadata": {},
          "execution_count": 21
        }
      ]
    },
    {
      "cell_type": "markdown",
      "source": [
        "#06. 集合"
      ],
      "metadata": {
        "id": "5oAQqhdtYZml"
      }
    },
    {
      "cell_type": "markdown",
      "source": [
        "設由單詞“paraparaparadise”和“paragraph”所生成的字元級bi-gram為分別為集合X\n",
        "和集合Y\n",
        "。 求這兩個集合的並（union）、交（intersection）、差（difference）。 此外，請檢查集合X\n",
        "和Y\n",
        "中是否包含bi-gram “se”"
      ],
      "metadata": {
        "id": "d0XHTAhxYcAv"
      }
    },
    {
      "cell_type": "code",
      "source": [
        "def bigram_self(text):\n",
        "  return list(zip(*[text.split()[i:] for i in range(2)])),list(zip(*[text[i:] for i in range(2)]))\n",
        "a = \"araparaparadise\"\n",
        "b = \"paragraph\"\n",
        "X=set(bigram_self(a)[1])\n",
        "Y=set(bigram_self(b)[1])\n",
        "print(X|Y)\n",
        "print(X&Y)\n",
        "print(X-Y)\n",
        "print((\"s\",\"e\") in X)\n",
        "print((\"s\",\"e\") in Y)"
      ],
      "metadata": {
        "colab": {
          "base_uri": "https://localhost:8080/"
        },
        "id": "kavFcBeoYe8P",
        "outputId": "4bb10e65-d9d9-4bf9-a30a-3ecb805fac36"
      },
      "execution_count": null,
      "outputs": [
        {
          "output_type": "stream",
          "name": "stdout",
          "text": [
            "{('a', 'g'), ('a', 'd'), ('r', 'a'), ('a', 'r'), ('p', 'h'), ('g', 'r'), ('s', 'e'), ('p', 'a'), ('a', 'p'), ('i', 's'), ('d', 'i')}\n",
            "{('p', 'a'), ('r', 'a'), ('a', 'p'), ('a', 'r')}\n",
            "{('a', 'd'), ('s', 'e'), ('d', 'i'), ('i', 's')}\n",
            "True\n",
            "False\n"
          ]
        }
      ]
    },
    {
      "cell_type": "markdown",
      "source": [
        "#07. 基於範本的句子生成"
      ],
      "metadata": {
        "id": "CONC63dzbyVn"
      }
    },
    {
      "cell_type": "markdown",
      "source": [
        "實現一個函數，接收三個參數，，作為輸入，並返回字串作為輸出，其中“{x}”， “{y}”， “{z}”分別代表參數， ，的值。 進一步地，以， ， 作為輸入，確認該函數的輸出結果。xyz\"{y} is {z} at {x}\"xyzx=12y=\"temperature\"z=22.4"
      ],
      "metadata": {
        "id": "jd6NE9LJb1Hj"
      }
    },
    {
      "cell_type": "code",
      "source": [
        "def Template(x,y,z):\n",
        "    temp = str(x)+ \"點的\" + str(y)+ \"是\" + str(z)\n",
        "    return temp\n",
        "\n",
        "result = Template(12, \"temperature\", 22.4)\n",
        "print(result)\n"
      ],
      "metadata": {
        "id": "gm_j5hogc4i3",
        "colab": {
          "base_uri": "https://localhost:8080/"
        },
        "outputId": "e5013b7f-f7b8-4943-ec27-7af8337b19f8"
      },
      "execution_count": 1,
      "outputs": [
        {
          "output_type": "stream",
          "name": "stdout",
          "text": [
            "12點的temperature是22.4\n"
          ]
        }
      ]
    },
    {
      "cell_type": "markdown",
      "source": [
        "#08. 密文"
      ],
      "metadata": {
        "id": "IwdPiAV4b294"
      }
    },
    {
      "cell_type": "markdown",
      "source": [
        "實現函數，使得它能夠對給定字串中的各個字元進行下列變換：cipher\n",
        "\n",
        "對於任意一個小寫英文字母，將其置換成ASCII碼為（219 - [的ASCII碼]）的字元;cc\n",
        "對於任意一個非小寫英文字母的字元，不對其進行變換。\n",
        "使用該函數對英文資訊進行加密與解密。\n",
        "\n",
        "實現一個函數，它能夠對給定字串作下述要求的變換：cipher\n",
        "\n",
        "每個小寫字元將被轉換為ASCII碼為（219 - [ 的ASCII碼 ]）所對應的字元cc\n",
        "其他字元保持不變\n",
        "使用這個函數對英文資訊進行加密與解密。"
      ],
      "metadata": {
        "id": "nnXFzqHyb8ng"
      }
    },
    {
      "cell_type": "code",
      "source": [
        " def cipher(text):\n",
        "    text = [chr(219 - ord(w)) if 97 <= ord(w) <= 122 else w for w in text]\n",
        "    return ''.join(text)\n",
        "\n",
        "\n",
        "text = 'I am handsome amd love TMU.'\n",
        "ans = cipher(text)\n",
        "print(ans)\n",
        "ans = cipher(ans)\n",
        "print(ans)"
      ],
      "metadata": {
        "colab": {
          "base_uri": "https://localhost:8080/"
        },
        "id": "8-wnZXNKwXaf",
        "outputId": "6bd69802-80cc-4a79-d470-7cbe22dc291d"
      },
      "execution_count": 2,
      "outputs": [
        {
          "output_type": "stream",
          "name": "stdout",
          "text": [
            "I zn szmwhlnv znw olev TMU.\n",
            "I am handsome amd love TMU.\n"
          ]
        }
      ]
    },
    {
      "cell_type": "markdown",
      "source": [
        "#09. Typoglycemia"
      ],
      "metadata": {
        "id": "hr1hWJqDcAbs"
      }
    },
    {
      "cell_type": "markdown",
      "source": [
        "按下列要求編寫程式：\n",
        "\n",
        "接收一個以空格為分隔符的單詞序列作為輸入\n",
        "對於在該序列中的每個單詞：\n",
        "如果該單詞的長度（字元數）不超過4，保持該單詞不變;\n",
        "否則，\n",
        "保持該單詞的首尾字元不變;\n",
        "隨機打亂剩餘字元的排列順序。\n",
        "輸入任意英文序列（例如“I couldn't believe that I could actually understand what I was reading ： the phenomenal power of the human mind. “），確認該程式的運行結果。"
      ],
      "metadata": {
        "id": "jrvWRdWNcDkn"
      }
    },
    {
      "cell_type": "code",
      "source": [
        "import random\n",
        "def convert_order_random(sentence) :\n",
        "  word_list = sentence.split(' ')\n",
        "  result_list = []\n",
        "  for i in range(len(word_list)) :\n",
        "    word = word_list[i]\n",
        "    length = len(word)\n",
        "    if len(word) <= 4 :\n",
        "      result_list.append(word)\n",
        "    else :\n",
        "      random_str = ''.join(random.sample(word[1:length-1], length-2))\n",
        "      result_list.append(word[0] + random_str + word[length-1])\n",
        "    result = ''.join(result_list)\n",
        "  return result\n",
        "input_sentence = 'I couldn’t believe that I could actually understand what I was reading : the phenomenal power of the human mind .'\n",
        "print(convert_order_random(input_sentence))"
      ],
      "metadata": {
        "colab": {
          "base_uri": "https://localhost:8080/"
        },
        "id": "RWeL-UV4IdUB",
        "outputId": "e2238971-5cfe-44d2-d9b1-96333641edf5"
      },
      "execution_count": 4,
      "outputs": [
        {
          "output_type": "stream",
          "name": "stdout",
          "text": [
            "Icuo’nldtbliveeethatIcloudatcalluyusantdenrdwhatIwasreindag:thepeonnemhalpeworofthehaumnmind.\n"
          ]
        }
      ]
    }
  ]
}